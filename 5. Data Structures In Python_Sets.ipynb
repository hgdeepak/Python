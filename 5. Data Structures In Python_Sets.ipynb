{
 "cells": [
  {
   "cell_type": "markdown",
   "id": "b9f42014",
   "metadata": {},
   "source": [
    "# Sets"
   ]
  },
  {
   "cell_type": "markdown",
   "id": "ba14e165",
   "metadata": {},
   "source": [
    "Sets are another data structures supported by Python.\n",
    "\n",
    "Sets are sequences with no duplicate elements.\n",
    "\n",
    "A set is a mutable and unordered collection of items.\n",
    "\n",
    "Since sets are unordered, indexing has not meaning."
   ]
  },
  {
   "cell_type": "markdown",
   "id": "9ad4ebd3",
   "metadata": {},
   "source": [
    "## Creating a Set"
   ]
  },
  {
   "cell_type": "markdown",
   "id": "ca6b67a9",
   "metadata": {},
   "source": [
    "A set is created by placing all the elements within the curly brackets, {}, separated by comma.\n",
    "\n",
    "A set can also be created using the built-in function set().\n",
    "\n",
    "set() creates an empty set."
   ]
  },
  {
   "cell_type": "markdown",
   "id": "9bce2159",
   "metadata": {},
   "source": [
    "### Example"
   ]
  },
  {
   "cell_type": "code",
   "execution_count": 1,
   "id": "58d86ba6",
   "metadata": {},
   "outputs": [],
   "source": [
    "states = {'Karnataka', 'Andhra Pradesh', 'Tamil Nadu',  'Kerala'}"
   ]
  },
  {
   "cell_type": "code",
   "execution_count": 2,
   "id": "4d4de86f",
   "metadata": {},
   "outputs": [
    {
     "data": {
      "text/plain": [
       "set"
      ]
     },
     "execution_count": 2,
     "metadata": {},
     "output_type": "execute_result"
    }
   ],
   "source": [
    "type(states)"
   ]
  },
  {
   "cell_type": "code",
   "execution_count": 3,
   "id": "2d023f1d",
   "metadata": {},
   "outputs": [
    {
     "name": "stdout",
     "output_type": "stream",
     "text": [
      "{'Andhra Pradesh', 'Tamil Nadu', 'Kerala', 'Karnataka'}\n"
     ]
    }
   ],
   "source": [
    "print(states)"
   ]
  },
  {
   "cell_type": "markdown",
   "id": "fa63d0e9",
   "metadata": {},
   "source": [
    "### Example"
   ]
  },
  {
   "cell_type": "code",
   "execution_count": 4,
   "id": "f73bc284",
   "metadata": {},
   "outputs": [],
   "source": [
    "marks = {38, 35, 28, 10, 38}"
   ]
  },
  {
   "cell_type": "code",
   "execution_count": 5,
   "id": "7755b6f4",
   "metadata": {},
   "outputs": [
    {
     "data": {
      "text/plain": [
       "set"
      ]
     },
     "execution_count": 5,
     "metadata": {},
     "output_type": "execute_result"
    }
   ],
   "source": [
    "type(marks)"
   ]
  },
  {
   "cell_type": "code",
   "execution_count": 6,
   "id": "cde51846",
   "metadata": {},
   "outputs": [
    {
     "name": "stdout",
     "output_type": "stream",
     "text": [
      "{10, 35, 28, 38}\n"
     ]
    }
   ],
   "source": [
    "print(marks)"
   ]
  },
  {
   "cell_type": "markdown",
   "id": "2b326445",
   "metadata": {},
   "source": [
    "### Example"
   ]
  },
  {
   "cell_type": "code",
   "execution_count": 7,
   "id": "cda46bcc",
   "metadata": {},
   "outputs": [],
   "source": [
    "alpha_num = {'a', 'e', 'i', 100, 225, 625}"
   ]
  },
  {
   "cell_type": "code",
   "execution_count": 8,
   "id": "78a7cdb1",
   "metadata": {},
   "outputs": [
    {
     "data": {
      "text/plain": [
       "set"
      ]
     },
     "execution_count": 8,
     "metadata": {},
     "output_type": "execute_result"
    }
   ],
   "source": [
    "type(alpha_num)"
   ]
  },
  {
   "cell_type": "code",
   "execution_count": 9,
   "id": "1b3fd751",
   "metadata": {},
   "outputs": [
    {
     "name": "stdout",
     "output_type": "stream",
     "text": [
      "{225, 625, 100, 'a', 'i', 'e'}\n"
     ]
    }
   ],
   "source": [
    "print(alpha_num)"
   ]
  },
  {
   "cell_type": "markdown",
   "id": "5278bd8e",
   "metadata": {},
   "source": [
    "### Example"
   ]
  },
  {
   "cell_type": "code",
   "execution_count": 10,
   "id": "6b3b60a4",
   "metadata": {},
   "outputs": [],
   "source": [
    "colours = ['Violet', 'Indigo', 'Blue', 'Green', 'Yellow', 'Orange', 'Red']"
   ]
  },
  {
   "cell_type": "code",
   "execution_count": 11,
   "id": "c1044a4c",
   "metadata": {},
   "outputs": [
    {
     "data": {
      "text/plain": [
       "list"
      ]
     },
     "execution_count": 11,
     "metadata": {},
     "output_type": "execute_result"
    }
   ],
   "source": [
    "type(colours)"
   ]
  },
  {
   "cell_type": "code",
   "execution_count": 12,
   "id": "5fed2b35",
   "metadata": {},
   "outputs": [],
   "source": [
    "colours = set(colours)"
   ]
  },
  {
   "cell_type": "code",
   "execution_count": 13,
   "id": "68553fd2",
   "metadata": {},
   "outputs": [
    {
     "data": {
      "text/plain": [
       "set"
      ]
     },
     "execution_count": 13,
     "metadata": {},
     "output_type": "execute_result"
    }
   ],
   "source": [
    "type(colours)"
   ]
  },
  {
   "cell_type": "code",
   "execution_count": 14,
   "id": "4944582d",
   "metadata": {},
   "outputs": [
    {
     "name": "stdout",
     "output_type": "stream",
     "text": [
      "{'Blue', 'Indigo', 'Green', 'Red', 'Violet', 'Orange', 'Yellow'}\n"
     ]
    }
   ],
   "source": [
    "print(colours)"
   ]
  },
  {
   "cell_type": "markdown",
   "id": "64b9c91f",
   "metadata": {},
   "source": [
    "## Set Operations"
   ]
  },
  {
   "cell_type": "markdown",
   "id": "acac8256",
   "metadata": {},
   "source": [
    "### *len()* function"
   ]
  },
  {
   "cell_type": "markdown",
   "id": "c7363ec8",
   "metadata": {},
   "source": [
    "Returns the length of a set."
   ]
  },
  {
   "cell_type": "markdown",
   "id": "f02a78da",
   "metadata": {},
   "source": [
    "#### Example"
   ]
  },
  {
   "cell_type": "code",
   "execution_count": 59,
   "id": "8366c34a",
   "metadata": {},
   "outputs": [],
   "source": [
    "dosas = {'Plain Dosa', 'Masala Dosa', 'Set Dosa', 'Rava Dosa', 'Onion Dosa'}"
   ]
  },
  {
   "cell_type": "code",
   "execution_count": 60,
   "id": "3b20b7bc",
   "metadata": {},
   "outputs": [
    {
     "name": "stdout",
     "output_type": "stream",
     "text": [
      "{'Rava Dosa', 'Set Dosa', 'Masala Dosa', 'Plain Dosa', 'Onion Dosa'}\n"
     ]
    }
   ],
   "source": [
    "print(dosas)"
   ]
  },
  {
   "cell_type": "code",
   "execution_count": 62,
   "id": "ce28bfde",
   "metadata": {},
   "outputs": [
    {
     "name": "stdout",
     "output_type": "stream",
     "text": [
      "5\n"
     ]
    }
   ],
   "source": [
    "print(len(dosas))"
   ]
  },
  {
   "cell_type": "markdown",
   "id": "bb9303ce",
   "metadata": {},
   "source": [
    "### *in* operator"
   ]
  },
  {
   "cell_type": "markdown",
   "id": "483c7cbf",
   "metadata": {},
   "source": [
    "Returns True if the element is present in the set else returns False."
   ]
  },
  {
   "cell_type": "markdown",
   "id": "8a627d88",
   "metadata": {},
   "source": [
    "#### Example"
   ]
  },
  {
   "cell_type": "code",
   "execution_count": 63,
   "id": "fe9e3292",
   "metadata": {},
   "outputs": [],
   "source": [
    "rotis = {'Tandoori Roti', 'Naan', 'Kulcha', 'Rumali Roti'}"
   ]
  },
  {
   "cell_type": "code",
   "execution_count": 64,
   "id": "f8b16e20",
   "metadata": {},
   "outputs": [
    {
     "name": "stdout",
     "output_type": "stream",
     "text": [
      "True\n"
     ]
    }
   ],
   "source": [
    "print('Naan' in rotis)"
   ]
  },
  {
   "cell_type": "code",
   "execution_count": 65,
   "id": "267789f0",
   "metadata": {},
   "outputs": [
    {
     "name": "stdout",
     "output_type": "stream",
     "text": [
      "False\n"
     ]
    }
   ],
   "source": [
    "print('Butter Kulcha' in rotis)"
   ]
  },
  {
   "cell_type": "markdown",
   "id": "8c263d62",
   "metadata": {},
   "source": [
    "### *not in* operator"
   ]
  },
  {
   "cell_type": "markdown",
   "id": "4ef9a114",
   "metadata": {},
   "source": [
    "Returns False if the element is present in the set else returns True."
   ]
  },
  {
   "cell_type": "markdown",
   "id": "818b0134",
   "metadata": {},
   "source": [
    "#### Example"
   ]
  },
  {
   "cell_type": "code",
   "execution_count": 66,
   "id": "c102ea0f",
   "metadata": {},
   "outputs": [],
   "source": [
    "ice_creams = {'Amul Ice cream', 'Kwality', 'Vadilal Ice Creams', 'Baskin Robbins', 'Polar Bear'}"
   ]
  },
  {
   "cell_type": "code",
   "execution_count": 67,
   "id": "a8f87b99",
   "metadata": {},
   "outputs": [
    {
     "name": "stdout",
     "output_type": "stream",
     "text": [
      "True\n"
     ]
    }
   ],
   "source": [
    "print('Airtel' not in ice_creams)"
   ]
  },
  {
   "cell_type": "markdown",
   "id": "65207931",
   "metadata": {},
   "source": [
    "#### Example"
   ]
  },
  {
   "cell_type": "code",
   "execution_count": 68,
   "id": "4b1cb7f9",
   "metadata": {},
   "outputs": [
    {
     "name": "stdout",
     "output_type": "stream",
     "text": [
      "False\n"
     ]
    }
   ],
   "source": [
    "print('Polar Bear' not in ice_creams)"
   ]
  },
  {
   "cell_type": "markdown",
   "id": "45b869dd",
   "metadata": {},
   "source": [
    "### *add()* method"
   ]
  },
  {
   "cell_type": "markdown",
   "id": "0a9bf4b6",
   "metadata": {},
   "source": [
    "Adds an element to the set."
   ]
  },
  {
   "cell_type": "markdown",
   "id": "a9941f6a",
   "metadata": {},
   "source": [
    "#### Example"
   ]
  },
  {
   "cell_type": "code",
   "execution_count": 24,
   "id": "01cb1f6d",
   "metadata": {},
   "outputs": [],
   "source": [
    "even_numbers = {2, 4, 6}"
   ]
  },
  {
   "cell_type": "code",
   "execution_count": 25,
   "id": "590d8655",
   "metadata": {},
   "outputs": [],
   "source": [
    "even_numbers.add(8)"
   ]
  },
  {
   "cell_type": "code",
   "execution_count": 26,
   "id": "d53f9ddc",
   "metadata": {},
   "outputs": [
    {
     "name": "stdout",
     "output_type": "stream",
     "text": [
      "{8, 2, 4, 6}\n"
     ]
    }
   ],
   "source": [
    "print(even_numbers)"
   ]
  },
  {
   "cell_type": "markdown",
   "id": "c58f86fb",
   "metadata": {},
   "source": [
    "### *update()* method"
   ]
  },
  {
   "cell_type": "markdown",
   "id": "42fb8e77",
   "metadata": {},
   "source": [
    "Adds elements to the set."
   ]
  },
  {
   "cell_type": "markdown",
   "id": "2b8e8b02",
   "metadata": {},
   "source": [
    "#### Example"
   ]
  },
  {
   "cell_type": "code",
   "execution_count": 33,
   "id": "b6bfd2b7",
   "metadata": {},
   "outputs": [],
   "source": [
    "fruits = {'Apple', 'Banana', 'Cherry'}\n",
    "\n",
    "vegetables = {'Brinjal', 'Carrot', 'Radish'}"
   ]
  },
  {
   "cell_type": "code",
   "execution_count": 34,
   "id": "129f35f3",
   "metadata": {},
   "outputs": [],
   "source": [
    "fruits.update(vegetables)"
   ]
  },
  {
   "cell_type": "code",
   "execution_count": 35,
   "id": "bba423f5",
   "metadata": {},
   "outputs": [
    {
     "name": "stdout",
     "output_type": "stream",
     "text": [
      "{'Cherry', 'Brinjal', 'Apple', 'Radish', 'Carrot', 'Banana'}\n"
     ]
    }
   ],
   "source": [
    "print(fruits)"
   ]
  },
  {
   "cell_type": "markdown",
   "id": "1e38fb36",
   "metadata": {},
   "source": [
    "### *remove()* method"
   ]
  },
  {
   "cell_type": "markdown",
   "id": "8c0aabe9",
   "metadata": {},
   "source": [
    "Removes an item from the set.\n",
    "\n",
    "Returns a KeyError if the item is not present."
   ]
  },
  {
   "cell_type": "markdown",
   "id": "1f3f5bb3",
   "metadata": {},
   "source": [
    "#### Example"
   ]
  },
  {
   "cell_type": "code",
   "execution_count": 39,
   "id": "846d99ef",
   "metadata": {},
   "outputs": [],
   "source": [
    "fruits = {'Apple', 'Banana', 'Cherry', 'Grapes'}"
   ]
  },
  {
   "cell_type": "code",
   "execution_count": 40,
   "id": "fd6c18f5",
   "metadata": {},
   "outputs": [],
   "source": [
    "fruits.remove('Cherry')"
   ]
  },
  {
   "cell_type": "code",
   "execution_count": 41,
   "id": "5e032ac8",
   "metadata": {},
   "outputs": [
    {
     "name": "stdout",
     "output_type": "stream",
     "text": [
      "{'Banana', 'Grapes', 'Apple'}\n"
     ]
    }
   ],
   "source": [
    "print(fruits)"
   ]
  },
  {
   "cell_type": "code",
   "execution_count": 42,
   "id": "40c553f0",
   "metadata": {},
   "outputs": [
    {
     "ename": "KeyError",
     "evalue": "'Orange'",
     "output_type": "error",
     "traceback": [
      "\u001b[1;31m---------------------------------------------------------------------------\u001b[0m",
      "\u001b[1;31mKeyError\u001b[0m                                  Traceback (most recent call last)",
      "Cell \u001b[1;32mIn[42], line 1\u001b[0m\n\u001b[1;32m----> 1\u001b[0m \u001b[43mfruits\u001b[49m\u001b[38;5;241;43m.\u001b[39;49m\u001b[43mremove\u001b[49m\u001b[43m(\u001b[49m\u001b[38;5;124;43m'\u001b[39;49m\u001b[38;5;124;43mOrange\u001b[39;49m\u001b[38;5;124;43m'\u001b[39;49m\u001b[43m)\u001b[49m\n",
      "\u001b[1;31mKeyError\u001b[0m: 'Orange'"
     ]
    }
   ],
   "source": [
    "fruits.remove('Orange')"
   ]
  },
  {
   "cell_type": "markdown",
   "id": "46f289f9",
   "metadata": {},
   "source": [
    "### *discard()* method"
   ]
  },
  {
   "cell_type": "markdown",
   "id": "74aee07a",
   "metadata": {},
   "source": [
    "Removes an item from the set.\n",
    "\n",
    "Does not give an error if the item is not present in the set."
   ]
  },
  {
   "cell_type": "markdown",
   "id": "e0570cb8",
   "metadata": {},
   "source": [
    "#### Example"
   ]
  },
  {
   "cell_type": "code",
   "execution_count": 43,
   "id": "5ae8b63d",
   "metadata": {},
   "outputs": [],
   "source": [
    "fruits = {'Apple', 'Banana', 'Cherry', 'Grapes'}"
   ]
  },
  {
   "cell_type": "code",
   "execution_count": 44,
   "id": "1007ecb6",
   "metadata": {},
   "outputs": [],
   "source": [
    "fruits.discard('Orange')"
   ]
  },
  {
   "cell_type": "code",
   "execution_count": 45,
   "id": "a8cb1354",
   "metadata": {},
   "outputs": [
    {
     "name": "stdout",
     "output_type": "stream",
     "text": [
      "{'Banana', 'Cherry', 'Grapes', 'Apple'}\n"
     ]
    }
   ],
   "source": [
    "print(fruits)"
   ]
  },
  {
   "cell_type": "markdown",
   "id": "c3ce7abc",
   "metadata": {},
   "source": [
    "### *pop()* method"
   ]
  },
  {
   "cell_type": "markdown",
   "id": "7a825f2e",
   "metadata": {},
   "source": [
    "Remove an item, but this method will remove a random item.\n",
    "\n",
    "Cannot be sure what item that gets removed.\n",
    "\n",
    "The return value of the pop() method is the removed item.\n",
    "\n",
    "KeyError is raised if set is empty."
   ]
  },
  {
   "cell_type": "markdown",
   "id": "c357890b",
   "metadata": {},
   "source": [
    "#### Example"
   ]
  },
  {
   "cell_type": "code",
   "execution_count": 53,
   "id": "e17b3141",
   "metadata": {},
   "outputs": [],
   "source": [
    "vegetables = {'French Beans', 'Carrot', 'Brinjal', 'Okra', 'Radish'}"
   ]
  },
  {
   "cell_type": "code",
   "execution_count": 54,
   "id": "f72c9dda",
   "metadata": {},
   "outputs": [
    {
     "data": {
      "text/plain": [
       "'Radish'"
      ]
     },
     "execution_count": 54,
     "metadata": {},
     "output_type": "execute_result"
    }
   ],
   "source": [
    "vegetables.pop()"
   ]
  },
  {
   "cell_type": "code",
   "execution_count": 48,
   "id": "f552f031",
   "metadata": {},
   "outputs": [
    {
     "name": "stdout",
     "output_type": "stream",
     "text": [
      "{'Brinjal', 'French Beans', 'Carrot', 'Okra'}\n"
     ]
    }
   ],
   "source": [
    "print(vegetables)"
   ]
  },
  {
   "cell_type": "markdown",
   "id": "202823b9",
   "metadata": {},
   "source": [
    "#### Example"
   ]
  },
  {
   "cell_type": "code",
   "execution_count": 49,
   "id": "f135b78e",
   "metadata": {},
   "outputs": [],
   "source": [
    "empty_set = set()"
   ]
  },
  {
   "cell_type": "code",
   "execution_count": 50,
   "id": "b49480c8",
   "metadata": {},
   "outputs": [
    {
     "ename": "KeyError",
     "evalue": "'pop from an empty set'",
     "output_type": "error",
     "traceback": [
      "\u001b[1;31m---------------------------------------------------------------------------\u001b[0m",
      "\u001b[1;31mKeyError\u001b[0m                                  Traceback (most recent call last)",
      "Cell \u001b[1;32mIn[50], line 1\u001b[0m\n\u001b[1;32m----> 1\u001b[0m \u001b[43mempty_set\u001b[49m\u001b[38;5;241;43m.\u001b[39;49m\u001b[43mpop\u001b[49m\u001b[43m(\u001b[49m\u001b[43m)\u001b[49m\n",
      "\u001b[1;31mKeyError\u001b[0m: 'pop from an empty set'"
     ]
    }
   ],
   "source": [
    "empty_set.pop()"
   ]
  },
  {
   "cell_type": "markdown",
   "id": "c247c3b5",
   "metadata": {},
   "source": [
    "### *clear()* method"
   ]
  },
  {
   "cell_type": "markdown",
   "id": "9eba680a",
   "metadata": {},
   "source": [
    "Removes all the elements from the set."
   ]
  },
  {
   "cell_type": "markdown",
   "id": "68337cc8",
   "metadata": {},
   "source": [
    "#### Example"
   ]
  },
  {
   "cell_type": "code",
   "execution_count": 55,
   "id": "14d06b71",
   "metadata": {},
   "outputs": [],
   "source": [
    "snacks = {'Samosa', 'Masala Puri', 'Kachori', 'Vada Pav'}"
   ]
  },
  {
   "cell_type": "code",
   "execution_count": 56,
   "id": "f99b513b",
   "metadata": {},
   "outputs": [
    {
     "name": "stdout",
     "output_type": "stream",
     "text": [
      "{'Kachori', 'Samosa', 'Vada Pav', 'Masala Puri'}\n"
     ]
    }
   ],
   "source": [
    "print(snacks)"
   ]
  },
  {
   "cell_type": "code",
   "execution_count": 57,
   "id": "5357f830",
   "metadata": {},
   "outputs": [],
   "source": [
    "snacks.clear()"
   ]
  },
  {
   "cell_type": "code",
   "execution_count": 58,
   "id": "d7d7702d",
   "metadata": {},
   "outputs": [
    {
     "name": "stdout",
     "output_type": "stream",
     "text": [
      "set()\n"
     ]
    }
   ],
   "source": [
    "print(snacks)"
   ]
  },
  {
   "cell_type": "markdown",
   "id": "257f3069",
   "metadata": {},
   "source": [
    "## Mathematical Operations"
   ]
  },
  {
   "cell_type": "code",
   "execution_count": 1,
   "id": "869a9db5",
   "metadata": {},
   "outputs": [],
   "source": [
    "alphabets = {'a', 'b', 'c', 'd', 'e', 'f', 'g', 'h', 'i', 'j', 'k', 'l', 'm', 'n', 'o', 'p', 'q', 'r', 's', 't', 'u', 'v', 'w', 'x', 'y' , 'z'}\n",
    "\n",
    "vowels = {'a', 'e', 'i', 'o', 'u'}\n",
    "\n",
    "Consonants = {'b', 'c', 'd', 'f', 'g', 'h', 'j', 'k', 'l', 'm', 'n', 'p', 'q', 'r', 's', 't', 'v', 'w', 'x', 'y' , 'z'}"
   ]
  },
  {
   "cell_type": "markdown",
   "id": "5b28254b",
   "metadata": {},
   "source": [
    "### Union"
   ]
  },
  {
   "cell_type": "markdown",
   "id": "0fd7553a",
   "metadata": {},
   "source": [
    "Union of two sets include all the elements from both the sets."
   ]
  },
  {
   "cell_type": "code",
   "execution_count": 16,
   "id": "e7a9f7a0",
   "metadata": {},
   "outputs": [
    {
     "name": "stdout",
     "output_type": "stream",
     "text": [
      "{'h', 'f', 's', 't', 'k', 'e', 'n', 'l', 'b', 'r', 'w', 'm', 'q', 'c', 'y', 'u', 'a', 'i', 'p', 'x', 'o', 'z', 'v', 'g', 'j', 'd'}\n"
     ]
    }
   ],
   "source": [
    "print(vowels.union(Consonants))"
   ]
  },
  {
   "cell_type": "markdown",
   "id": "dc709aaa",
   "metadata": {},
   "source": [
    "### Intersection"
   ]
  },
  {
   "cell_type": "markdown",
   "id": "b4a0a926",
   "metadata": {},
   "source": [
    "Intersection of two sets include elements that are common to both the sets."
   ]
  },
  {
   "cell_type": "code",
   "execution_count": 17,
   "id": "2e4d486a",
   "metadata": {},
   "outputs": [
    {
     "name": "stdout",
     "output_type": "stream",
     "text": [
      "{'u', 'a', 'i', 'e', 'o'}\n"
     ]
    }
   ],
   "source": [
    "print(alphabets.intersection(vowels))"
   ]
  },
  {
   "cell_type": "code",
   "execution_count": 18,
   "id": "4ba464b5",
   "metadata": {},
   "outputs": [
    {
     "name": "stdout",
     "output_type": "stream",
     "text": [
      "set()\n"
     ]
    }
   ],
   "source": [
    "print(Consonants.intersection(vowels))"
   ]
  },
  {
   "cell_type": "markdown",
   "id": "abb2751b",
   "metadata": {},
   "source": [
    "### Difference"
   ]
  },
  {
   "cell_type": "markdown",
   "id": "41487f5f",
   "metadata": {},
   "source": [
    "Difference of A and B includes all the elements that are in A but not in B."
   ]
  },
  {
   "cell_type": "code",
   "execution_count": 19,
   "id": "c11d9d07",
   "metadata": {},
   "outputs": [
    {
     "name": "stdout",
     "output_type": "stream",
     "text": [
      "{'u', 'a', 'i', 'e', 'o'}\n"
     ]
    }
   ],
   "source": [
    "print(vowels.difference(Consonants))"
   ]
  },
  {
   "cell_type": "code",
   "execution_count": 20,
   "id": "048b44f5",
   "metadata": {},
   "outputs": [
    {
     "name": "stdout",
     "output_type": "stream",
     "text": [
      "{'u', 'a', 'i', 'e', 'o'}\n"
     ]
    }
   ],
   "source": [
    "print(alphabets.difference(Consonants))"
   ]
  },
  {
   "cell_type": "markdown",
   "id": "3dfbdab7",
   "metadata": {},
   "source": [
    "### Symmetric Difference"
   ]
  },
  {
   "cell_type": "markdown",
   "id": "3c6f4bbb",
   "metadata": {},
   "source": [
    "Symmetric difference of A and B inludes all the elements that are in A and B but not the one that are common to A and B."
   ]
  },
  {
   "cell_type": "code",
   "execution_count": 23,
   "id": "d993abcc",
   "metadata": {},
   "outputs": [
    {
     "name": "stdout",
     "output_type": "stream",
     "text": [
      "{'e', 'u', 'i', 'a', 'o'}\n"
     ]
    }
   ],
   "source": [
    "print(alphabets.symmetric_difference(Consonants))"
   ]
  },
  {
   "cell_type": "markdown",
   "id": "2aca4023",
   "metadata": {},
   "source": [
    "### *issubset()* method"
   ]
  },
  {
   "cell_type": "markdown",
   "id": "fc1cdd07",
   "metadata": {},
   "source": [
    "Returns True if the set is a subset otherwise False."
   ]
  },
  {
   "cell_type": "markdown",
   "id": "aa3ccc13",
   "metadata": {},
   "source": [
    "#### Example"
   ]
  },
  {
   "cell_type": "code",
   "execution_count": 2,
   "id": "3e7b318b",
   "metadata": {},
   "outputs": [
    {
     "data": {
      "text/plain": [
       "True"
      ]
     },
     "execution_count": 2,
     "metadata": {},
     "output_type": "execute_result"
    }
   ],
   "source": [
    "vowels.issubset(alphabets)"
   ]
  },
  {
   "cell_type": "markdown",
   "id": "9ca6888c",
   "metadata": {},
   "source": [
    "#### Example"
   ]
  },
  {
   "cell_type": "code",
   "execution_count": 3,
   "id": "9ab14b2c",
   "metadata": {},
   "outputs": [
    {
     "data": {
      "text/plain": [
       "False"
      ]
     },
     "execution_count": 3,
     "metadata": {},
     "output_type": "execute_result"
    }
   ],
   "source": [
    "alphabets.issubset(Consonants)"
   ]
  },
  {
   "cell_type": "markdown",
   "id": "29f323ea",
   "metadata": {},
   "source": [
    "### *issuperset()* method"
   ]
  },
  {
   "cell_type": "markdown",
   "id": "97a34b12",
   "metadata": {},
   "source": [
    "Returns True if the set is the Superset otherwise False."
   ]
  },
  {
   "cell_type": "markdown",
   "id": "c0d14fdb",
   "metadata": {},
   "source": [
    "#### Example"
   ]
  },
  {
   "cell_type": "code",
   "execution_count": 4,
   "id": "793a8445",
   "metadata": {},
   "outputs": [
    {
     "data": {
      "text/plain": [
       "True"
      ]
     },
     "execution_count": 4,
     "metadata": {},
     "output_type": "execute_result"
    }
   ],
   "source": [
    "alphabets.issuperset(Consonants)"
   ]
  },
  {
   "cell_type": "markdown",
   "id": "a061aa16",
   "metadata": {},
   "source": [
    "#### Example"
   ]
  },
  {
   "cell_type": "code",
   "execution_count": 5,
   "id": "5940743a",
   "metadata": {},
   "outputs": [
    {
     "data": {
      "text/plain": [
       "False"
      ]
     },
     "execution_count": 5,
     "metadata": {},
     "output_type": "execute_result"
    }
   ],
   "source": [
    "vowels.issuperset(Consonants)"
   ]
  },
  {
   "cell_type": "markdown",
   "id": "c6c5ca22",
   "metadata": {},
   "source": [
    "### *isdisjoint()* method"
   ]
  },
  {
   "cell_type": "markdown",
   "id": "133e06bc",
   "metadata": {},
   "source": [
    "Returns True if two sets have a null intersection."
   ]
  },
  {
   "cell_type": "markdown",
   "id": "35460f19",
   "metadata": {},
   "source": [
    "#### Example"
   ]
  },
  {
   "cell_type": "code",
   "execution_count": 6,
   "id": "26e04551",
   "metadata": {},
   "outputs": [
    {
     "data": {
      "text/plain": [
       "True"
      ]
     },
     "execution_count": 6,
     "metadata": {},
     "output_type": "execute_result"
    }
   ],
   "source": [
    "vowels.isdisjoint(Consonants)"
   ]
  },
  {
   "cell_type": "markdown",
   "id": "42f9406a",
   "metadata": {},
   "source": [
    "#### Example"
   ]
  },
  {
   "cell_type": "code",
   "execution_count": 7,
   "id": "6813abdd",
   "metadata": {},
   "outputs": [
    {
     "data": {
      "text/plain": [
       "False"
      ]
     },
     "execution_count": 7,
     "metadata": {},
     "output_type": "execute_result"
    }
   ],
   "source": [
    "vowels.isdisjoint(alphabets)"
   ]
  },
  {
   "cell_type": "markdown",
   "id": "2c77c22e",
   "metadata": {},
   "source": [
    "### *copy()* method"
   ]
  },
  {
   "cell_type": "markdown",
   "id": "4ac7b3ee",
   "metadata": {},
   "source": [
    "Makes a shallow copy of the set i.e., all the items in the new set are references to the same items as the original set."
   ]
  },
  {
   "cell_type": "markdown",
   "id": "1a82cf19",
   "metadata": {},
   "source": [
    "#### Example"
   ]
  },
  {
   "cell_type": "code",
   "execution_count": 9,
   "id": "ec0be898",
   "metadata": {},
   "outputs": [],
   "source": [
    "stationeries = {'Book', 'Pen', 'Pencil'}"
   ]
  },
  {
   "cell_type": "code",
   "execution_count": 10,
   "id": "9b1616d7",
   "metadata": {},
   "outputs": [],
   "source": [
    "stationeries_copy = stationeries.copy()"
   ]
  },
  {
   "cell_type": "code",
   "execution_count": 11,
   "id": "fefa7405",
   "metadata": {},
   "outputs": [
    {
     "name": "stdout",
     "output_type": "stream",
     "text": [
      "{'Book', 'Pencil', 'Pen'}\n"
     ]
    }
   ],
   "source": [
    "print(stationeries_copy)"
   ]
  },
  {
   "cell_type": "code",
   "execution_count": 12,
   "id": "204ee9b1",
   "metadata": {},
   "outputs": [],
   "source": [
    "stationeries.add('Eraser')"
   ]
  },
  {
   "cell_type": "code",
   "execution_count": 15,
   "id": "523dd1ce",
   "metadata": {},
   "outputs": [
    {
     "name": "stdout",
     "output_type": "stream",
     "text": [
      "{'Book', 'Pencil', 'Pen', 'Eraser'}\n"
     ]
    }
   ],
   "source": [
    "print(stationeries)"
   ]
  },
  {
   "cell_type": "code",
   "execution_count": 14,
   "id": "e10044bc",
   "metadata": {},
   "outputs": [
    {
     "name": "stdout",
     "output_type": "stream",
     "text": [
      "{'Book', 'Pencil', 'Pen'}\n"
     ]
    }
   ],
   "source": [
    "print(stationeries_copy)"
   ]
  },
  {
   "cell_type": "markdown",
   "id": "7b5d1b8a",
   "metadata": {},
   "source": [
    "## Set Comprehensions"
   ]
  },
  {
   "cell_type": "markdown",
   "id": "9f59972e",
   "metadata": {},
   "source": [
    "List comprehension use [] brackets while set comprehension uses {} brackets."
   ]
  },
  {
   "cell_type": "markdown",
   "id": "bcde1d74",
   "metadata": {},
   "source": [
    "### Example"
   ]
  },
  {
   "cell_type": "code",
   "execution_count": 17,
   "id": "0831c207",
   "metadata": {},
   "outputs": [
    {
     "data": {
      "text/plain": [
       "{0, 2, 4, 6, 8, 10, 12, 14, 16, 18}"
      ]
     },
     "execution_count": 17,
     "metadata": {},
     "output_type": "execute_result"
    }
   ],
   "source": [
    "# To create a set of even numbers\n",
    "\n",
    "{num for num in range(20) if num % 2 == 0}"
   ]
  },
  {
   "cell_type": "code",
   "execution_count": null,
   "id": "241bf8d8",
   "metadata": {},
   "outputs": [],
   "source": []
  }
 ],
 "metadata": {
  "kernelspec": {
   "display_name": "Python 3 (ipykernel)",
   "language": "python",
   "name": "python3"
  },
  "language_info": {
   "codemirror_mode": {
    "name": "ipython",
    "version": 3
   },
   "file_extension": ".py",
   "mimetype": "text/x-python",
   "name": "python",
   "nbconvert_exporter": "python",
   "pygments_lexer": "ipython3",
   "version": "3.12.2"
  }
 },
 "nbformat": 4,
 "nbformat_minor": 5
}
